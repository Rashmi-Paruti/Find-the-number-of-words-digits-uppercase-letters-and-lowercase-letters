{
 "cells": [
  {
   "cell_type": "markdown",
   "metadata": {},
   "source": [
    "# Write a Python program to find the string similarity between two given strings "
   ]
  },
  {
   "cell_type": "code",
   "execution_count": 4,
   "metadata": {},
   "outputs": [
    {
     "name": "stdout",
     "output_type": "stream",
     "text": [
      "Enter First String : \n",
      "pytho\n",
      "Enter Second String: \n",
      "python\n"
     ]
    }
   ],
   "source": [
    "#Enter Strings Using Str Variables \n",
    "str1 = input(\"Enter First String : \\n\") \n",
    "str2 = input(\"Enter Second String: \\n\") "
   ]
  },
  {
   "cell_type": "code",
   "execution_count": 5,
   "metadata": {},
   "outputs": [],
   "source": [
    "#if string 2 is less than to string 1 assign values short \n",
    "if len(str2) < len(str1): \n",
    "    short = len(str2) \n",
    "    long = len(str1) \n",
    "else: \n",
    "    short = len(str1) \n",
    "    long = len(str2) \n",
    "    matchCnt = 0 \n",
    "for i in range(short): \n",
    "    if str1[i] == str2[i]: \n",
    "        matchCnt += 1\n"
   ]
  },
  {
   "cell_type": "code",
   "execution_count": 6,
   "metadata": {},
   "outputs": [
    {
     "name": "stdout",
     "output_type": "stream",
     "text": [
      "Similarity between two said String:\n",
      "0.8333333333333334\n"
     ]
    }
   ],
   "source": [
    "#Display the Similarity Two Strings \n",
    "print(\"Similarity between two said String:\") \n",
    "print(matchCnt/ long) \n"
   ]
  }
 ],
 "metadata": {
  "kernelspec": {
   "display_name": "Python 3",
   "language": "python",
   "name": "python3"
  },
  "language_info": {
   "codemirror_mode": {
    "name": "ipython",
    "version": 3
   },
   "file_extension": ".py",
   "mimetype": "text/x-python",
   "name": "python",
   "nbconvert_exporter": "python",
   "pygments_lexer": "ipython3",
   "version": "3.7.4"
  }
 },
 "nbformat": 4,
 "nbformat_minor": 2
}
