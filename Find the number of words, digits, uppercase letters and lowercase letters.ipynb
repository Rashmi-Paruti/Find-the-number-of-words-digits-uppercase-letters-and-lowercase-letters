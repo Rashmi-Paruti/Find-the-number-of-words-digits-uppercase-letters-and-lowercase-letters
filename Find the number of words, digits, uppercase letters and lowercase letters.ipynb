{
 "cells": [
  {
   "cell_type": "markdown",
   "metadata": {},
   "source": [
    "# Write a Python program that accepts a sentence and find the number of words, digits, uppercase letters and lowercase letters. "
   ]
  },
  {
   "cell_type": "code",
   "execution_count": 1,
   "metadata": {},
   "outputs": [
    {
     "name": "stdout",
     "output_type": "stream",
     "text": [
      "Enter a sentence: Rashmi Paruti \n"
     ]
    }
   ],
   "source": [
    "#Create a Variable and Assign One Sentence \n",
    "s = input(\"Enter a sentence: \") \n"
   ]
  },
  {
   "cell_type": "code",
   "execution_count": 2,
   "metadata": {},
   "outputs": [],
   "source": [
    "#word,digits,uppercase,lowercase all are Firstly 0 \n",
    "w, d, u, l = 0, 0, 0, 0 \n"
   ]
  },
  {
   "cell_type": "code",
   "execution_count": 3,
   "metadata": {},
   "outputs": [],
   "source": [
    "#lenth word \n",
    "l_w = s.split() \n",
    "#create lenth word to assign w as variable \n",
    "w = len(l_w) \n"
   ]
  },
  {
   "cell_type": "code",
   "execution_count": 17,
   "metadata": {},
   "outputs": [],
   "source": [
    "for c in s:\n",
    "#character is digits \n",
    "    if c.isdigit(): \n",
    "        d = d + 1 \n",
    "#upper CASE\n",
    "\n",
    "    elif c.isupper(): \n",
    "        u = u + 1 \n",
    "#lowerCase \n",
    "    elif c.islower(): \n",
    "        l = l + 1 \n"
   ]
  },
  {
   "cell_type": "code",
   "execution_count": 18,
   "metadata": {},
   "outputs": [
    {
     "name": "stdout",
     "output_type": "stream",
     "text": [
      "No of Words:  2\n",
      "No of Digits:  0\n",
      "No of Uppercase letters:  2\n",
      "No of Lowercase letters:  10\n"
     ]
    }
   ],
   "source": [
    "#Display the Number WOrd \n",
    "print (\"No of Words: \", w) \n",
    "#Display the Number of Digits \n",
    "print (\"No of Digits: \", d) \n",
    "#Display the Number of Upper Case \n",
    "print (\"No of Uppercase letters: \", u) \n",
    "#Display the Number of Lower Case \n",
    "print (\"No of Lowercase letters: \", l) \n"
   ]
  }
 ],
 "metadata": {
  "kernelspec": {
   "display_name": "Python 3",
   "language": "python",
   "name": "python3"
  },
  "language_info": {
   "codemirror_mode": {
    "name": "ipython",
    "version": 3
   },
   "file_extension": ".py",
   "mimetype": "text/x-python",
   "name": "python",
   "nbconvert_exporter": "python",
   "pygments_lexer": "ipython3",
   "version": "3.7.4"
  }
 },
 "nbformat": 4,
 "nbformat_minor": 2
}
